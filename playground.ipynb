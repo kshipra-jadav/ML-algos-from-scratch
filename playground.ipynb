{
 "cells": [
  {
   "cell_type": "code",
   "execution_count": 1,
   "metadata": {},
   "outputs": [],
   "source": [
    "from sklearn.datasets import load_iris\n",
    "from sklearn.model_selection import train_test_split\n",
    "\n",
    "iris = load_iris()\n",
    "\n",
    "X_train, X_test, y_train, y_test = train_test_split(iris.data, iris.target, test_size=0.2)"
   ]
  },
  {
   "cell_type": "code",
   "execution_count": 7,
   "metadata": {},
   "outputs": [
    {
     "data": {
      "text/plain": [
       "1"
      ]
     },
     "execution_count": 7,
     "metadata": {},
     "output_type": "execute_result"
    }
   ],
   "source": [
    "from utils.eucilidian_distance import eucilidian_distance\n",
    "import numpy as np\n",
    "from collections import Counter\n",
    "x = X_train[0]\n",
    "\n",
    "ed = [eucilidian_distance(x, y) for y in X_train]\n",
    "\n",
    "n_ind = np.argsort(ed)[0 : 3]\n",
    "n_lab = [y_test[i] for i in n_ind]\n",
    "Counter(n_lab).most_common(1)[0][0]"
   ]
  },
  {
   "cell_type": "code",
   "execution_count": 9,
   "metadata": {},
   "outputs": [
    {
     "name": "stdout",
     "output_type": "stream",
     "text": [
      "x1 - x2 :- [-3 -3 -3]\n",
      "(x1 - x2) ^ 2 :- [9 9 9]\n",
      "sum of (x1 - x2) ^ 2 :- 27\n",
      "sqrt of sum of (x1 - x2) ^ 2 :- 5.196152422706632\n"
     ]
    }
   ],
   "source": [
    "\n",
    "import numpy as np\n",
    "x1 = np.array([1, 2, 3])\n",
    "x2 = np.array([4, 5, 6])\n",
    "\n",
    "print(f\"x1 - x2 :- {x1 - x2}\")\n",
    "print(f\"(x1 - x2) ^ 2 :- {(x1-x2) ** 2}\")\n",
    "print(f\"sum of (x1 - x2) ^ 2 :- {np.sum((x1 - x2) ** 2)}\")\n",
    "print(f\"sqrt of sum of (x1 - x2) ^ 2 :- {np.sqrt(np.sum((x1 - x2) ** 2))}\")"
   ]
  },
  {
   "cell_type": "code",
   "execution_count": 1,
   "metadata": {},
   "outputs": [],
   "source": [
    "from sklearn.datasets import make_regression\n",
    "from sklearn.model_selection import train_test_split\n",
    "import matplotlib.pyplot as plt\n",
    "\n",
    "X, y = make_regression(n_samples=100, n_features=1, noise=20)\n",
    "X_train, X_test, y_train, y_test = train_test_split(X, y, test_size=0.2)"
   ]
  },
  {
   "cell_type": "code",
   "execution_count": 12,
   "metadata": {},
   "outputs": [
    {
     "name": "stdout",
     "output_type": "stream",
     "text": [
      "yoo from fit\n",
      "[-114.38609054  -11.20374561  135.6096144  -102.23147124  -98.37764193\n",
      "   44.2223095    69.37555761   -0.21415831  -62.40641292  -16.63678786\n",
      "  -93.28015906  -22.68485568   70.48278614   68.63696347   55.00653534\n",
      "   26.44336767   12.97388966  -40.07349784   -5.5696629   -25.84346039]\n"
     ]
    },
    {
     "data": {
      "image/png": "[encoded data removed]",
      "text/plain": [
       "<Figure size 640x480 with 1 Axes>"
      ]
     },
     "metadata": {},
     "output_type": "display_data"
    }
   ],
   "source": [
    "from linear_regression import LinearRegression\n",
    "\n",
    "model = LinearRegression(lr=0.01)\n",
    "model.fit(X_train, y_train)\n",
    "\n",
    "y_pred = model.predict(X_test)\n",
    "\n",
    "plt.scatter(X_train, y_train, c=\"b\")\n",
    "plt.scatter(X_test, y_test, c=\"r\")\n",
    "plt.plot(X_test, y_pred, c=\"k\")\n",
    "print(y_pred)"
   ]
  },
  {
   "cell_type": "code",
   "execution_count": null,
   "metadata": {},
   "outputs": [],
   "source": []
  }
 ],
 "metadata": {
  "kernelspec": {
   "display_name": "Python 3",
   "language": "python",
   "name": "python3"
  },
  "language_info": {
   "codemirror_mode": {
    "name": "ipython",
    "version": 3
   },
   "file_extension": ".py",
   "mimetype": "text/x-python",
   "name": "python",
   "nbconvert_exporter": "python",
   "pygments_lexer": "ipython3",
   "version": "3.10.9"
  },
  "orig_nbformat": 4
 },
 "nbformat": 4,
 "nbformat_minor": 2
}
