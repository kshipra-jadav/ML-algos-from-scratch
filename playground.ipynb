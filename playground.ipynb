{
 "cells": [
  {
   "cell_type": "code",
   "execution_count": 2,
   "metadata": {},
   "outputs": [],
   "source": [
    "from sklearn.datasets import load_iris\n",
    "from sklearn.model_selection import train_test_split\n",
    "\n",
    "iris = load_iris()\n",
    "\n",
    "X_train, X_test, y_train, y_test = train_test_split(iris.data, iris.target, test_size=0.2)"
   ]
  },
  {
   "cell_type": "code",
   "execution_count": 3,
   "metadata": {},
   "outputs": [
    {
     "ename": "IndexError",
     "evalue": "index 86 is out of bounds for axis 0 with size 30",
     "output_type": "error",
     "traceback": [
      "\u001b[1;31m---------------------------------------------------------------------------\u001b[0m",
      "\u001b[1;31mIndexError\u001b[0m                                Traceback (most recent call last)",
      "\u001b[1;32md:\\SEM 7\\ML From Scratch\\playground.ipynb Cell 2\u001b[0m in \u001b[0;36m9\n\u001b[0;32m      <a href='vscode-notebook-cell:/d%3A/SEM%207/ML%20From%20Scratch/playground.ipynb#W1sZmlsZQ%3D%3D?line=5'>6</a>\u001b[0m ed \u001b[39m=\u001b[39m [eucilidian_distance(x, y) \u001b[39mfor\u001b[39;00m y \u001b[39min\u001b[39;00m X_train]\n\u001b[0;32m      <a href='vscode-notebook-cell:/d%3A/SEM%207/ML%20From%20Scratch/playground.ipynb#W1sZmlsZQ%3D%3D?line=7'>8</a>\u001b[0m n_ind \u001b[39m=\u001b[39m np\u001b[39m.\u001b[39margsort(ed)[\u001b[39m0\u001b[39m : \u001b[39m3\u001b[39m]\n\u001b[1;32m----> <a href='vscode-notebook-cell:/d%3A/SEM%207/ML%20From%20Scratch/playground.ipynb#W1sZmlsZQ%3D%3D?line=8'>9</a>\u001b[0m n_lab \u001b[39m=\u001b[39m [y_test[i] \u001b[39mfor\u001b[39;00m i \u001b[39min\u001b[39;00m n_ind]\n\u001b[0;32m     <a href='vscode-notebook-cell:/d%3A/SEM%207/ML%20From%20Scratch/playground.ipynb#W1sZmlsZQ%3D%3D?line=9'>10</a>\u001b[0m Counter(n_lab)\u001b[39m.\u001b[39mmost_common(\u001b[39m1\u001b[39m)[\u001b[39m0\u001b[39m][\u001b[39m0\u001b[39m]\n",
      "\u001b[1;32md:\\SEM 7\\ML From Scratch\\playground.ipynb Cell 2\u001b[0m in \u001b[0;36m9\n\u001b[0;32m      <a href='vscode-notebook-cell:/d%3A/SEM%207/ML%20From%20Scratch/playground.ipynb#W1sZmlsZQ%3D%3D?line=5'>6</a>\u001b[0m ed \u001b[39m=\u001b[39m [eucilidian_distance(x, y) \u001b[39mfor\u001b[39;00m y \u001b[39min\u001b[39;00m X_train]\n\u001b[0;32m      <a href='vscode-notebook-cell:/d%3A/SEM%207/ML%20From%20Scratch/playground.ipynb#W1sZmlsZQ%3D%3D?line=7'>8</a>\u001b[0m n_ind \u001b[39m=\u001b[39m np\u001b[39m.\u001b[39margsort(ed)[\u001b[39m0\u001b[39m : \u001b[39m3\u001b[39m]\n\u001b[1;32m----> <a href='vscode-notebook-cell:/d%3A/SEM%207/ML%20From%20Scratch/playground.ipynb#W1sZmlsZQ%3D%3D?line=8'>9</a>\u001b[0m n_lab \u001b[39m=\u001b[39m [y_test[i] \u001b[39mfor\u001b[39;00m i \u001b[39min\u001b[39;00m n_ind]\n\u001b[0;32m     <a href='vscode-notebook-cell:/d%3A/SEM%207/ML%20From%20Scratch/playground.ipynb#W1sZmlsZQ%3D%3D?line=9'>10</a>\u001b[0m Counter(n_lab)\u001b[39m.\u001b[39mmost_common(\u001b[39m1\u001b[39m)[\u001b[39m0\u001b[39m][\u001b[39m0\u001b[39m]\n",
      "\u001b[1;31mIndexError\u001b[0m: index 86 is out of bounds for axis 0 with size 30"
     ]
    }
   ],
   "source": [
    "from utils.eucilidian_distance import eucilidian_distance\n",
    "import numpy as np\n",
    "from collections import Counter\n",
    "x = X_train[0]\n",
    "\n",
    "ed = [eucilidian_distance(x, y) for y in X_train]\n",
    "\n",
    "n_ind = np.argsort(ed)[0 : 3]\n",
    "n_lab = [y_test[i] for i in n_ind]\n",
    "Counter(n_lab).most_common(1)[0][0]"
   ]
  },
  {
   "cell_type": "code",
   "execution_count": 4,
   "metadata": {},
   "outputs": [
    {
     "name": "stdout",
     "output_type": "stream",
     "text": [
      "x1 - x2 :- [-3 -3 -3]\n",
      "(x1 - x2) ^ 2 :- [9 9 9]\n",
      "sum of (x1 - x2) ^ 2 :- 27\n",
      "sqrt of sum of (x1 - x2) ^ 2 :- 5.196152422706632\n"
     ]
    }
   ],
   "source": [
    "\n",
    "import numpy as np\n",
    "x1 = np.array([1, 2, 3])\n",
    "x2 = np.array([4, 5, 6])\n",
    "\n",
    "print(f\"x1 - x2 :- {x1 - x2}\")\n",
    "print(f\"(x1 - x2) ^ 2 :- {(x1-x2) ** 2}\")\n",
    "print(f\"sum of (x1 - x2) ^ 2 :- {np.sum((x1 - x2) ** 2)}\")\n",
    "print(f\"sqrt of sum of (x1 - x2) ^ 2 :- {np.sqrt(np.sum((x1 - x2) ** 2))}\")"
   ]
  },
  {
   "cell_type": "code",
   "execution_count": 5,
   "metadata": {},
   "outputs": [],
   "source": [
    "from sklearn.datasets import make_regression\n",
    "from sklearn.model_selection import train_test_split\n",
    "import matplotlib.pyplot as plt\n",
    "\n",
    "X, y = make_regression(n_samples=100, n_features=1, noise=20)\n",
    "X_train, X_test, y_train, y_test = train_test_split(X, y, test_size=0.2)"
   ]
  },
  {
   "cell_type": "code",
   "execution_count": 6,
   "metadata": {},
   "outputs": [
    {
     "name": "stdout",
     "output_type": "stream",
     "text": [
      "[-17.36187834 -27.22111779 -12.53413318   8.96740417   7.78328842\n",
      " -18.17507048 -18.66615422  -4.65640298   9.71461678  10.41335884\n",
      "  14.0105812  -15.86909509 -19.99641028  19.36932267 -20.60307716\n",
      "   4.72964698 -19.2537175   30.46315239 -19.44857515  23.0367377 ]\n"
     ]
    },
    {
     "data": {
      "image/png": "[encoded data removed]",
      "text/plain": [
       "<Figure size 640x480 with 1 Axes>"
      ]
     },
     "metadata": {},
     "output_type": "display_data"
    }
   ],
   "source": [
    "from linear_regression import LinearRegression\n",
    "\n",
    "model = LinearRegression(lr=0.01)\n",
    "model.fit(X_train, y_train)\n",
    "\n",
    "y_pred = model.predict(X_test)\n",
    "\n",
    "plt.scatter(X_train, y_train, c=\"b\")\n",
    "plt.scatter(X_test, y_test, c=\"r\")\n",
    "plt.plot(X_test, y_pred, c=\"k\")\n",
    "print(y_pred)"
   ]
  },
  {
   "cell_type": "code",
   "execution_count": 1,
   "metadata": {},
   "outputs": [
    {
     "name": "stderr",
     "output_type": "stream",
     "text": [
      "d:\\SEM 7\\ML From Scratch\\utils\\sigmoid.py:4: RuntimeWarning: overflow encountered in exp\n",
      "  return 1 / (1 + np.exp(-x))\n"
     ]
    },
    {
     "name": "stdout",
     "output_type": "stream",
     "text": [
      "              precision    recall  f1-score   support\n",
      "\n",
      "           0       0.87      0.93      0.90        42\n",
      "           1       0.96      0.92      0.94        72\n",
      "\n",
      "    accuracy                           0.92       114\n",
      "   macro avg       0.91      0.92      0.92       114\n",
      "weighted avg       0.92      0.92      0.92       114\n",
      "\n"
     ]
    }
   ],
   "source": [
    "from sklearn.datasets import load_breast_cancer\n",
    "from sklearn.model_selection import train_test_split\n",
    "from sklearn.metrics import classification_report\n",
    "from logistic_regression import LogisticRegression\n",
    "\n",
    "bc = load_breast_cancer()\n",
    "X, y = bc.data, bc.target\n",
    "\n",
    "X_train, X_test, y_train, y_test = train_test_split(X, y, test_size=0.2)\n",
    "\n",
    "model = LogisticRegression()\n",
    "model.fit(X_train, y_train)\n",
    "y_preds = model.predict(X_test)\n",
    "print(classification_report(y_true=y_test, y_pred=y_preds))"
   ]
  },
  {
   "cell_type": "code",
   "execution_count": 22,
   "metadata": {},
   "outputs": [
    {
     "name": "stdout",
     "output_type": "stream",
     "text": [
      "0.5\n",
      "0.5\n"
     ]
    }
   ],
   "source": [
    "from sklearn.datasets import make_classification\n",
    "import pandas as pd\n",
    "import numpy as np\n",
    "\n",
    "X, y = make_classification(n_samples=1000, n_features=10, n_classes=2)\n",
    "samp, feat = X.shape\n",
    "classes = np.unique(y)\n",
    "mean = np.zeros(())\n",
    "\n",
    "for idx, c in enumerate(classes):\n",
    "    X_c = X[y == c]\n",
    "    print(X_c.shape[0] / samp)"
   ]
  },
  {
   "cell_type": "code",
   "execution_count": 19,
   "metadata": {},
   "outputs": [
    {
     "data": {
      "text/plain": [
       "array([], shape=(0, 1000, 10), dtype=float64)"
      ]
     },
     "execution_count": 19,
     "metadata": {},
     "output_type": "execute_result"
    }
   ],
   "source": [
    "X[False]"
   ]
  },
  {
   "cell_type": "code",
   "execution_count": null,
   "metadata": {},
   "outputs": [],
   "source": []
  }
 ],
 "metadata": {
  "kernelspec": {
   "display_name": "Python 3",
   "language": "python",
   "name": "python3"
  },
  "language_info": {
   "codemirror_mode": {
    "name": "ipython",
    "version": 3
   },
   "file_extension": ".py",
   "mimetype": "text/x-python",
   "name": "python",
   "nbconvert_exporter": "python",
   "pygments_lexer": "ipython3",
   "version": "3.10.9"
  },
  "orig_nbformat": 4
 },
 "nbformat": 4,
 "nbformat_minor": 2
}
